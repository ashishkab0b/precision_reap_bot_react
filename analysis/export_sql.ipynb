{
 "cells": [
  {
   "cell_type": "markdown",
   "metadata": {},
   "source": [
    "# Export databases"
   ]
  },
  {
   "cell_type": "code",
   "execution_count": 2,
   "metadata": {},
   "outputs": [
    {
     "name": "stdout",
     "output_type": "stream",
     "text": [
      "Dumped analysis_data to analysis_data.csv\n",
      "Dumped conversations to conversations.csv\n",
      "Dumped llm_queries to llm_queries.csv\n",
      "Dumped messages to messages.csv\n"
     ]
    }
   ],
   "source": [
    "import psycopg2\n",
    "import csv\n",
    "import os\n",
    "from dotenv import load_dotenv\n",
    "\n",
    "# Load environment variables\n",
    "load_dotenv()\n",
    "\n",
    "# Database connection parameters\n",
    "DB_PARAMS = {\n",
    "    'database': 'reapbotstudydb',\n",
    "    'user': 'doadmin',\n",
    "    'password': os.getenv('DB_PASSWORD'),\n",
    "    'host': 'pingbot-v2-db-do-user-18635979-0.i.db.ondigitalocean.com', \n",
    "    'port': 25060,\n",
    "    'sslmode': 'require'\n",
    "}\n",
    "\n",
    "# Tables to dump\n",
    "TABLES = [\"analysis_data\", \"conversations\", \"llm_queries\", \"messages\"]\n",
    "\n",
    "# Connect to the PostgreSQL database\n",
    "try:\n",
    "    conn = psycopg2.connect(**DB_PARAMS)\n",
    "    cursor = conn.cursor()\n",
    "    \n",
    "    for table in TABLES:\n",
    "        output_file = f\"{table}.csv\"\n",
    "        with open(output_file, \"w\", newline=\"\") as f:\n",
    "            writer = csv.writer(f)\n",
    "            \n",
    "            # Fetch column names\n",
    "            cursor.execute(f\"SELECT * FROM {table} LIMIT 0;\")\n",
    "            col_names = [desc[0] for desc in cursor.description]\n",
    "            writer.writerow(col_names)  # Write column headers\n",
    "            \n",
    "            # Fetch and write data\n",
    "            cursor.execute(f\"SELECT * FROM {table};\")\n",
    "            for row in cursor.fetchall():\n",
    "                writer.writerow(row)\n",
    "        \n",
    "        print(f\"Dumped {table} to {output_file}\")\n",
    "\n",
    "except Exception as e:\n",
    "    print(f\"Error: {e}\")\n",
    "finally:\n",
    "    if cursor:\n",
    "        cursor.close()\n",
    "    if conn:\n",
    "        conn.close()\n"
   ]
  },
  {
   "cell_type": "code",
   "execution_count": null,
   "metadata": {},
   "outputs": [],
   "source": []
  }
 ],
 "metadata": {
  "kernelspec": {
   "display_name": "venv",
   "language": "python",
   "name": "python3"
  },
  "language_info": {
   "codemirror_mode": {
    "name": "ipython",
    "version": 3
   },
   "file_extension": ".py",
   "mimetype": "text/x-python",
   "name": "python",
   "nbconvert_exporter": "python",
   "pygments_lexer": "ipython3",
   "version": "3.11.9"
  }
 },
 "nbformat": 4,
 "nbformat_minor": 2
}
